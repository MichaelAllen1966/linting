{
 "cells": [
  {
   "attachments": {},
   "cell_type": "markdown",
   "id": "184612c0",
   "metadata": {},
   "source": [
    "# Linting examples\n",
    "\n",
    "For all linting options, `pip install nbqa pylint flake8 pycodestyle pydocstyle pycodestyle_magic black[jupyter]`\n",
    "\n",
    "## What is linting?\n",
    "\n",
    "*Linting is the process of analyzing code for potential errors, bugs, or stylistic inconsistencies using a tool called a linter. A linter is a program that checks code against a set of predefined rules or guidelines, often based on a specific programming language or framework.*\n",
    "\n",
    "![](./images/code_quality.png)\n",
    "\n",
    "## Style guides:\n",
    "\n",
    "* Main points: https://realpython.com/python-pep8/\n",
    "\n",
    "* Full pep8: https://peps.python.org/pep-0008/\n",
    "\n",
    "* Pep 257 (docstring styleguide): https://peps.python.org/pep-0257/\n",
    "\n",
    "* Pep8 song: https://youtu.be/hgI0p1zf31k\n",
    "\n",
    "## Tools:\n",
    "\n",
    "* *nbqa* (`pip install nbqa`): enables linters to be run on notebooks.\n",
    "\n",
    "* *Pylint* (`pip install pylint`): looks for errors, enforces a coding standard that is close to PEP8, and even offers simple refactoring suggestions. From terminal, `nbqa pylint [notebook name]`.\n",
    "\n",
    "* *Flake8* (`pip install flake8`): wrapper around PyFlakes, pycodestyle and McCabe; this will check Python source code for errors and violations of some of the PEP8 style conventions. From terminal, `nbqa flake8 [notebook name]`\n",
    "\n",
    "* *Pycodestyle* (`pip install pycodestyle pycodestyle_magic`): can be used inline in Jupyter notebooks with majic (%%) command\n",
    "\n",
    "* *Black* (`pip install black[jupyter]`): auto-formats code. From terminal, `black [notebook name]`.\n",
    "\n",
    "Note: When using Black, it is probably a good idea to commit your code to Git before automformatting it. If you then don't like what Black has done, you can use `git stash` to restore changes since the last commit.\n",
    "\n",
    "## Acknowledgements\n",
    "\n",
    "Content developed from: https://www.pythonhealthdatascience.com/content/001_setup/prereq/05_pep8.html#linting-python-code"
   ]
  },
  {
   "cell_type": "markdown",
   "id": "74a7ed17-c169-43c3-9a7d-3c66dfe2594e",
   "metadata": {},
   "source": [
    "## Pip install if necessary"
   ]
  },
  {
   "cell_type": "code",
   "execution_count": null,
   "id": "4a4866f0-0146-485a-87f4-5b3c289f104d",
   "metadata": {},
   "outputs": [],
   "source": [
    "install_linters = False\n",
    "\n",
    "if install_linters:\n",
    "    !pip install nbqa pylint flake8 pycodestyle pydocstyle pycodestyle_magic black[jupyter]"
   ]
  },
  {
   "cell_type": "markdown",
   "id": "ac1065c2-0c48-4c04-a741-fe5795be7f6f",
   "metadata": {},
   "source": [
    "## Examples for linting\n",
    "\n",
    "All these cells work, but they have formatting not compliant with Pep8 or Pep 257."
   ]
  },
  {
   "cell_type": "markdown",
   "id": "c056e8f0",
   "metadata": {},
   "source": [
    "### Too long a line"
   ]
  },
  {
   "cell_type": "code",
   "execution_count": null,
   "id": "33265b01-e1ee-4de8-99c2-49fd5d92ec84",
   "metadata": {},
   "outputs": [],
   "source": [
    "my_very_very_long_variale_name = 10\n",
    "\n",
    "answer = (my_very_very_long_variale_name * 2) + (my_very_very_long_variale_name ^ 2) + (my_very_very_long_variale_name ^ 3)\n",
    "print (answer)"
   ]
  },
  {
   "cell_type": "markdown",
   "id": "824fe346",
   "metadata": {},
   "source": [
    "### No whitespace"
   ]
  },
  {
   "cell_type": "code",
   "execution_count": null,
   "id": "9f1ebe37",
   "metadata": {},
   "outputs": [],
   "source": [
    "a=10\n",
    "b=20\n",
    "c=a+b\n",
    "print(c)"
   ]
  },
  {
   "cell_type": "markdown",
   "id": "97b8cca7",
   "metadata": {},
   "source": [
    "### A more complex example"
   ]
  },
  {
   "cell_type": "code",
   "execution_count": null,
   "id": "973fc7de",
   "metadata": {},
   "outputs": [],
   "source": [
    "import numpy as np\n",
    "\n",
    "Captain='Picard'\n",
    "\n",
    "def InitiateWarpSpeed(order):\n",
    "    if order==\"engage\":\n",
    "        print(\"initiating warp speed\")\n",
    "    else:\n",
    "        print(\"you are not the captain of this vessel\")\n",
    "\n",
    "def test():\n",
    "    pass\n",
    "\n",
    "InitiateWarpSpeed(\"engage\")"
   ]
  },
  {
   "cell_type": "markdown",
   "id": "b558b5b7",
   "metadata": {},
   "source": [
    "## Preventing Black from reformatting where you don't want it\n",
    "\n",
    "Black will enforce formatting, at times when you may want to keep the original formatting.\n",
    "\n",
    "Note: Black by default will use a maximum line length of 88 (not the Pep 8 standard of 79). To change the maximum line length use `black --line-length 80 filename`."
   ]
  },
  {
   "cell_type": "code",
   "execution_count": null,
   "id": "c20e15ef-1546-4216-84da-933d144356e7",
   "metadata": {},
   "outputs": [],
   "source": [
    "# fmt: off\n",
    "custom_formatting = [\n",
    "    0,  1,  2,\n",
    "    3,  4,  5,\n",
    "    6,  7,  8,\n",
    "]"
   ]
  },
  {
   "cell_type": "code",
   "execution_count": null,
   "id": "2d2c57d2-fe83-467a-b7b7-1e29f5a32398",
   "metadata": {},
   "outputs": [],
   "source": [
    "# fmt: on\n",
    "regular_formatting = [\n",
    "    0,  1,  2,\n",
    "    3,  4,  5,\n",
    "    6,  7,  8, ]"
   ]
  },
  {
   "cell_type": "markdown",
   "id": "1729d414",
   "metadata": {},
   "source": [
    "## Using pycodestyle magic\n",
    "\n",
    "pycodestyle  seems to require running the cell twice. It should also work with `%%flake8`, but I have been getting errors."
   ]
  },
  {
   "cell_type": "code",
   "execution_count": null,
   "id": "ede3c092",
   "metadata": {},
   "outputs": [],
   "source": [
    "%load_ext pycodestyle_magic"
   ]
  },
  {
   "cell_type": "code",
   "execution_count": null,
   "id": "959255ec",
   "metadata": {},
   "outputs": [],
   "source": [
    "%%pycodestyle\n",
    "a=10\n",
    "b=20\n",
    "c=a+b\n",
    "print(c)"
   ]
  },
  {
   "cell_type": "markdown",
   "id": "cd1d5d88",
   "metadata": {},
   "source": [
    "### To lint multiple cells\n",
    "\n",
    "Turn pycodestyle on by running `%pycodestyle_on` in a cell. When you don't want to lint anymore you can turn off by running `%pycodestyle_off` in a cell.\n",
    "\n",
    "It *should* also work with `%flake8_on` and `%flake8_off`. "
   ]
  },
  {
   "cell_type": "code",
   "execution_count": null,
   "id": "8ae3eb68",
   "metadata": {},
   "outputs": [],
   "source": [
    "%load_ext pycodestyle_magic"
   ]
  },
  {
   "cell_type": "code",
   "execution_count": null,
   "id": "6d6bea75",
   "metadata": {},
   "outputs": [],
   "source": [
    "%pycodestyle_on"
   ]
  },
  {
   "cell_type": "code",
   "execution_count": null,
   "id": "7e75e7fa",
   "metadata": {},
   "outputs": [],
   "source": [
    "a=10\n",
    "b=20\n",
    "c=a+b\n",
    "print(c)"
   ]
  },
  {
   "cell_type": "code",
   "execution_count": null,
   "id": "c79ed46c",
   "metadata": {},
   "outputs": [],
   "source": [
    "import numpy as np\n",
    "\n",
    "Captain='Picard'\n",
    "\n",
    "def InitiateWarpSpeed(order):\n",
    "    if order==\"engage\":\n",
    "        print(\"initiating warp speed\")\n",
    "    else:\n",
    "        print(\"you are not the captain of this vessel\")\n",
    "\n",
    "def test():\n",
    "    \"\"\"\n",
    "    Here i smy short docstring\n",
    "    \"\"\"\n",
    "    a = 10\n",
    "    return\n",
    "\n",
    "InitiateWarpSpeed(\"engage\")"
   ]
  },
  {
   "cell_type": "code",
   "execution_count": null,
   "id": "761ab12d",
   "metadata": {},
   "outputs": [],
   "source": [
    "%pycodestyle_off"
   ]
  },
  {
   "cell_type": "markdown",
   "id": "9ce0b421-cb9e-4391-bce4-7dfc0c5897ee",
   "metadata": {},
   "source": [
    "## Running linters from terminal\n",
    "\n",
    "DON'T FORGET TO USE `NBQA`.\n",
    "\n",
    "Code linters:\n",
    "\n",
    "* `nbqa pylint linting_example.ipynb`\n",
    "* `nbqa flake8 linting_example.ipynb`\n",
    "* `nbqa pycodestyle linting_example.ipynb`\n",
    "\n",
    "Docstring linters:\n",
    "\n",
    "* `nbqa pydocstyle linting_example.ipynb`\n",
    "\n",
    "Autoformat:\n",
    "\n",
    "* `black linting_example.ipynb`"
   ]
  },
  {
   "attachments": {},
   "cell_type": "markdown",
   "id": "14af2e18-3b84-415d-879e-25724c0beb7d",
   "metadata": {},
   "source": [
    "## Linter docs:\n",
    "\n",
    "* https://nbqa.readthedocs.io/en/latest/\n",
    "* https://pylint.readthedocs.io/en/latest/\n",
    "* https://flake8.pycqa.org/en/latest/\n",
    "* https://pycodestyle.pycqa.org/en/latest/\n",
    "\n",
    "Docstring:\n",
    "\n",
    "* http://www.pydocstyle.org/en/stable/\n",
    "\n",
    "Autoformat:\n",
    "\n",
    "* https://black.readthedocs.io/en/stable/"
   ]
  }
 ],
 "metadata": {
  "kernelspec": {
   "display_name": "Python 3 (ipykernel)",
   "language": "python",
   "name": "python3"
  },
  "language_info": {
   "codemirror_mode": {
    "name": "ipython",
    "version": 3
   },
   "file_extension": ".py",
   "mimetype": "text/x-python",
   "name": "python",
   "nbconvert_exporter": "python",
   "pygments_lexer": "ipython3",
   "version": "3.10.8"
  },
  "vscode": {
   "interpreter": {
    "hash": "454c770916b6454c0a88ff275a86b0749913e3b5fd95e06480f7c2ec33b94adf"
   }
  }
 },
 "nbformat": 4,
 "nbformat_minor": 5
}
