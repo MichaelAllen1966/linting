{
 "cells": [
  {
   "attachments": {},
   "cell_type": "markdown",
   "id": "184612c0",
   "metadata": {},
   "source": [
    "# Linting examples\n",
    "\n",
    "![](code_quality.png)\n",
    "\n",
    "## Style guides:\n",
    "\n",
    "* Main points: https://realpython.com/python-pep8/\n",
    "\n",
    "* Full pep8: https://peps.python.org/pep-0008/\n",
    "\n",
    "* Pep8 song: https://youtu.be/hgI0p1zf31k\n",
    "\n",
    "## Tools:\n",
    "\n",
    "* *nbqa* (`pip install nbqa`): enables linters to be run on notebooks.\n",
    "\n",
    "* *Pylint* (`pip install pylint`): looks for errors, enforces a coding standard that is close to PEP8, and even offers simple refactoring suggestions. From terminal, `nbqa pylint [notebook name]`.\n",
    "\n",
    "* *Flake8* (`pip install flake8`): wrapper around PyFlakes, pycodestyle and McCabe; this will check Python source code for errors and violations of some of the PEP8 style conventions. From terminal, `nbqa flake8 [notebook name]`\n",
    "\n",
    "* *Pycodestyle* (`pip install pycodestyle pycodestyle_magic`): can be used inline in Jupyter notebooks with majic (%%) command\n",
    "\n",
    "* *Black* (`pip install black[jupyter]`): auto-formats code. From terminal, `black [notebook name]`.\n",
    "\n",
    "Note: When using Black, it is probably a good idea to commit your code to Git before automformatting it. If you then don't like what Black has done, you can use `git stash` to restore changes since the last commit.\n",
    "\n",
    "## Acknowledgements\n",
    "\n",
    "Content developed from: https://www.pythonhealthdatascience.com/content/001_setup/prereq/05_pep8.html#linting-python-code"
   ]
  },
  {
   "attachments": {},
   "cell_type": "markdown",
   "id": "c056e8f0",
   "metadata": {},
   "source": [
    "## Too long a line"
   ]
  },
  {
   "cell_type": "code",
   "execution_count": null,
   "id": "33265b01-e1ee-4de8-99c2-49fd5d92ec84",
   "metadata": {},
   "outputs": [],
   "source": [
    "my_very_very_long_variale_name = 10\n",
    "\n",
    "answer = (my_very_very_long_variale_name * 2) + (my_very_very_long_variale_name ^ 2) + (my_very_very_long_variale_name ^ 3)\n",
    "print (answer)"
   ]
  },
  {
   "attachments": {},
   "cell_type": "markdown",
   "id": "43f34215",
   "metadata": {},
   "source": [
    "## Undeclared variable"
   ]
  },
  {
   "cell_type": "code",
   "execution_count": null,
   "id": "4f098ca6",
   "metadata": {},
   "outputs": [],
   "source": [
    "a = 10\n",
    "c = b * a"
   ]
  },
  {
   "attachments": {},
   "cell_type": "markdown",
   "id": "824fe346",
   "metadata": {},
   "source": [
    "## No whitespace"
   ]
  },
  {
   "cell_type": "code",
   "execution_count": null,
   "id": "9f1ebe37",
   "metadata": {},
   "outputs": [],
   "source": [
    "a=10\n",
    "b=20\n",
    "c=a+b\n",
    "print(c)"
   ]
  },
  {
   "attachments": {},
   "cell_type": "markdown",
   "id": "97b8cca7",
   "metadata": {},
   "source": [
    "## A more complex example"
   ]
  },
  {
   "cell_type": "code",
   "execution_count": null,
   "id": "973fc7de",
   "metadata": {},
   "outputs": [],
   "source": [
    "import numpy as np\n",
    "\n",
    "Captain='Picard'\n",
    "\n",
    "def InitiateWarpSpeed(order):\n",
    "    if order==\"engage\":\n",
    "        print(\"initiating warp speed\")\n",
    "    else:\n",
    "        print(\"you are not the captain of this vessel\")\n",
    "\n",
    "def test():\n",
    "    pass\n",
    "\n",
    "InitiateWarpSpeed(\"engage\")"
   ]
  },
  {
   "attachments": {},
   "cell_type": "markdown",
   "id": "b558b5b7",
   "metadata": {},
   "source": [
    "## Preventing Black from reformating where you don't want it"
   ]
  },
  {
   "cell_type": "code",
   "execution_count": null,
   "id": "c20e15ef-1546-4216-84da-933d144356e7",
   "metadata": {},
   "outputs": [],
   "source": [
    "# fmt: off\n",
    "custom_formatting = [\n",
    "    0,  1,  2,\n",
    "    3,  4,  5,\n",
    "    6,  7,  8,\n",
    "]"
   ]
  },
  {
   "cell_type": "code",
   "execution_count": null,
   "id": "2d2c57d2-fe83-467a-b7b7-1e29f5a32398",
   "metadata": {},
   "outputs": [],
   "source": [
    "# fmt: on\n",
    "regular_formatting = [\n",
    "    0,  1,  2,\n",
    "    3,  4,  5,\n",
    "    6,  7,  8, ]"
   ]
  },
  {
   "attachments": {},
   "cell_type": "markdown",
   "id": "1729d414",
   "metadata": {},
   "source": [
    "## Using pycodestyle magic\n",
    "\n",
    "pycodestyle  seems to require running the cell twice. It should also work with `%%flake8`, but I have been getting errors."
   ]
  },
  {
   "cell_type": "code",
   "execution_count": null,
   "id": "ede3c092",
   "metadata": {},
   "outputs": [],
   "source": [
    "%load_ext pycodestyle_magic"
   ]
  },
  {
   "cell_type": "code",
   "execution_count": null,
   "id": "959255ec",
   "metadata": {},
   "outputs": [],
   "source": [
    "%%pycodestyle\n",
    "a=10\n",
    "b=20\n",
    "c=a+b\n",
    "print(c)"
   ]
  },
  {
   "attachments": {},
   "cell_type": "markdown",
   "id": "cd1d5d88",
   "metadata": {},
   "source": [
    "### To lint multiple cells\n",
    "\n",
    "Turn pycodestyle on by running `%pycodestyle_on` in a cell. When you don't want to lint anymore you can turn off by running `%pycodestyle_off` in a cell.\n",
    "\n",
    "It *should* also work with `%flake8_on` and `%flake8_off`. "
   ]
  },
  {
   "cell_type": "code",
   "execution_count": null,
   "id": "8ae3eb68",
   "metadata": {},
   "outputs": [],
   "source": [
    "%load_ext pycodestyle_magic"
   ]
  },
  {
   "cell_type": "code",
   "execution_count": null,
   "id": "6d6bea75",
   "metadata": {},
   "outputs": [],
   "source": [
    "%pycodestyle_on"
   ]
  },
  {
   "cell_type": "code",
   "execution_count": null,
   "id": "7e75e7fa",
   "metadata": {},
   "outputs": [],
   "source": [
    "a=10\n",
    "b=20\n",
    "c=a+b\n",
    "print(c)"
   ]
  },
  {
   "cell_type": "code",
   "execution_count": null,
   "id": "c79ed46c",
   "metadata": {},
   "outputs": [],
   "source": [
    "import numpy as np\n",
    "\n",
    "Captain='Picard'\n",
    "\n",
    "def InitiateWarpSpeed(order):\n",
    "    if order==\"engage\":\n",
    "        print(\"initiating warp speed\")\n",
    "    else:\n",
    "        print(\"you are not the captain of this vessel\")\n",
    "\n",
    "def test():\n",
    "    pass\n",
    "\n",
    "InitiateWarpSpeed(\"engage\")"
   ]
  },
  {
   "cell_type": "code",
   "execution_count": null,
   "id": "761ab12d",
   "metadata": {},
   "outputs": [],
   "source": [
    "%pycodestyle_off"
   ]
  }
 ],
 "metadata": {
  "kernelspec": {
   "display_name": "base",
   "language": "python",
   "name": "python3"
  },
  "language_info": {
   "codemirror_mode": {
    "name": "ipython",
    "version": 3
   },
   "file_extension": ".py",
   "mimetype": "text/x-python",
   "name": "python",
   "nbconvert_exporter": "python",
   "pygments_lexer": "ipython3",
   "version": "3.10.9"
  },
  "vscode": {
   "interpreter": {
    "hash": "454c770916b6454c0a88ff275a86b0749913e3b5fd95e06480f7c2ec33b94adf"
   }
  }
 },
 "nbformat": 4,
 "nbformat_minor": 5
}
